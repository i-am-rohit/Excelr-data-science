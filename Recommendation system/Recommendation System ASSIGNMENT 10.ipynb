{
 "cells": [
  {
   "cell_type": "code",
   "execution_count": 1,
   "id": "87d911fe",
   "metadata": {},
   "outputs": [],
   "source": [
    "import pandas as pd\n",
    "import numpy as np\n",
    "import matplotlib.pyplot as plt\n",
    "import seaborn as sns\n",
    "from sklearn.metrics import pairwise_distances\n",
    "from scipy.spatial.distance import cosine, correlation"
   ]
  },
  {
   "cell_type": "code",
   "execution_count": 2,
   "id": "04ad87a9",
   "metadata": {},
   "outputs": [],
   "source": [
    "books  = pd.read_csv(\"D:/excelr/assignments/book1.csv\",  encoding='latin1')"
   ]
  },
  {
   "cell_type": "code",
   "execution_count": 3,
   "id": "bcf30f52",
   "metadata": {},
   "outputs": [
    {
     "data": {
      "text/html": [
       "<div>\n",
       "<style scoped>\n",
       "    .dataframe tbody tr th:only-of-type {\n",
       "        vertical-align: middle;\n",
       "    }\n",
       "\n",
       "    .dataframe tbody tr th {\n",
       "        vertical-align: top;\n",
       "    }\n",
       "\n",
       "    .dataframe thead th {\n",
       "        text-align: right;\n",
       "    }\n",
       "</style>\n",
       "<table border=\"1\" class=\"dataframe\">\n",
       "  <thead>\n",
       "    <tr style=\"text-align: right;\">\n",
       "      <th></th>\n",
       "      <th>Unnamed: 0</th>\n",
       "      <th>User.ID</th>\n",
       "      <th>Book.Title</th>\n",
       "      <th>Book.Rating</th>\n",
       "    </tr>\n",
       "  </thead>\n",
       "  <tbody>\n",
       "    <tr>\n",
       "      <th>0</th>\n",
       "      <td>1</td>\n",
       "      <td>276726</td>\n",
       "      <td>Classical Mythology</td>\n",
       "      <td>5</td>\n",
       "    </tr>\n",
       "    <tr>\n",
       "      <th>1</th>\n",
       "      <td>2</td>\n",
       "      <td>276729</td>\n",
       "      <td>Clara Callan</td>\n",
       "      <td>3</td>\n",
       "    </tr>\n",
       "    <tr>\n",
       "      <th>2</th>\n",
       "      <td>3</td>\n",
       "      <td>276729</td>\n",
       "      <td>Decision in Normandy</td>\n",
       "      <td>6</td>\n",
       "    </tr>\n",
       "    <tr>\n",
       "      <th>3</th>\n",
       "      <td>4</td>\n",
       "      <td>276736</td>\n",
       "      <td>Flu: The Story of the Great Influenza Pandemic...</td>\n",
       "      <td>8</td>\n",
       "    </tr>\n",
       "    <tr>\n",
       "      <th>4</th>\n",
       "      <td>5</td>\n",
       "      <td>276737</td>\n",
       "      <td>The Mummies of Urumchi</td>\n",
       "      <td>6</td>\n",
       "    </tr>\n",
       "  </tbody>\n",
       "</table>\n",
       "</div>"
      ],
      "text/plain": [
       "   Unnamed: 0  User.ID                                         Book.Title   \n",
       "0           1   276726                                Classical Mythology  \\\n",
       "1           2   276729                                       Clara Callan   \n",
       "2           3   276729                               Decision in Normandy   \n",
       "3           4   276736  Flu: The Story of the Great Influenza Pandemic...   \n",
       "4           5   276737                             The Mummies of Urumchi   \n",
       "\n",
       "   Book.Rating  \n",
       "0            5  \n",
       "1            3  \n",
       "2            6  \n",
       "3            8  \n",
       "4            6  "
      ]
     },
     "execution_count": 3,
     "metadata": {},
     "output_type": "execute_result"
    }
   ],
   "source": [
    "books.head()"
   ]
  },
  {
   "cell_type": "code",
   "execution_count": 4,
   "id": "a5770a30",
   "metadata": {},
   "outputs": [
    {
     "data": {
      "text/plain": [
       "(10000, 4)"
      ]
     },
     "execution_count": 4,
     "metadata": {},
     "output_type": "execute_result"
    }
   ],
   "source": [
    "books.shape\n"
   ]
  },
  {
   "cell_type": "code",
   "execution_count": 5,
   "id": "7ba8dee3",
   "metadata": {},
   "outputs": [
    {
     "data": {
      "text/plain": [
       "array(['Classical Mythology', 'Clara Callan', 'Decision in Normandy', ...,\n",
       "       'How to Flirt: A Practical Guide', 'Twilight',\n",
       "       'Kids Say the Darndest Things'], dtype=object)"
      ]
     },
     "execution_count": 5,
     "metadata": {},
     "output_type": "execute_result"
    }
   ],
   "source": [
    "books['Book.Title'].unique()\n"
   ]
  },
  {
   "cell_type": "code",
   "execution_count": 6,
   "id": "b006570c",
   "metadata": {},
   "outputs": [
    {
     "ename": "NameError",
     "evalue": "name 'df1' is not defined",
     "output_type": "error",
     "traceback": [
      "\u001b[1;31m---------------------------------------------------------------------------\u001b[0m",
      "\u001b[1;31mNameError\u001b[0m                                 Traceback (most recent call last)",
      "Cell \u001b[1;32mIn[6], line 1\u001b[0m\n\u001b[1;32m----> 1\u001b[0m \u001b[38;5;28mprint\u001b[39m(\u001b[38;5;124m'\u001b[39m\u001b[38;5;124m# of records: \u001b[39m\u001b[38;5;132;01m%d\u001b[39;00m\u001b[38;5;130;01m\\n\u001b[39;00m\u001b[38;5;124m# of books: \u001b[39m\u001b[38;5;132;01m%d\u001b[39;00m\u001b[38;5;130;01m\\n\u001b[39;00m\u001b[38;5;124m# of users: \u001b[39m\u001b[38;5;132;01m%d\u001b[39;00m\u001b[38;5;124m'\u001b[39m \u001b[38;5;241m%\u001b[39m (\u001b[38;5;28mlen\u001b[39m(\u001b[43mdf1\u001b[49m), \u001b[38;5;28mlen\u001b[39m(df1[\u001b[38;5;124m'\u001b[39m\u001b[38;5;124mtitle\u001b[39m\u001b[38;5;124m'\u001b[39m]\u001b[38;5;241m.\u001b[39munique()), \u001b[38;5;28mlen\u001b[39m(df1[\u001b[38;5;124m'\u001b[39m\u001b[38;5;124muserID\u001b[39m\u001b[38;5;124m'\u001b[39m]\u001b[38;5;241m.\u001b[39munique())))\n",
      "\u001b[1;31mNameError\u001b[0m: name 'df1' is not defined"
     ]
    }
   ],
   "source": [
    "print('# of records: %d\\n# of books: %d\\n# of users: %d' % (len(df1), len(df1['title'].unique()), len(df1['userID'].unique())))\n"
   ]
  },
  {
   "cell_type": "code",
   "execution_count": null,
   "id": "13f478a8",
   "metadata": {},
   "outputs": [],
   "source": [
    "len(books['Book.Title'].unique())\n"
   ]
  },
  {
   "cell_type": "code",
   "execution_count": null,
   "id": "90c2ddca",
   "metadata": {},
   "outputs": [],
   "source": [
    "book = books.drop(['Unnamed: 0'], axis = 1)"
   ]
  },
  {
   "cell_type": "code",
   "execution_count": null,
   "id": "287e01a0",
   "metadata": {},
   "outputs": [],
   "source": [
    "book.tail(2)"
   ]
  },
  {
   "cell_type": "code",
   "execution_count": null,
   "id": "842498c9",
   "metadata": {},
   "outputs": [],
   "source": [
    "books = book.rename({'User.ID':'UserId','Book.Title':'Title','Book.Rating':'Rating'}, axis=1)\n",
    "books"
   ]
  },
  {
   "cell_type": "code",
   "execution_count": null,
   "id": "00ec5da9",
   "metadata": {},
   "outputs": [],
   "source": [
    "books['Rating'].value_counts()\n"
   ]
  },
  {
   "cell_type": "code",
   "execution_count": null,
   "id": "d5548ecb",
   "metadata": {},
   "outputs": [],
   "source": [
    "len(books['UserId'].unique())\n"
   ]
  },
  {
   "cell_type": "code",
   "execution_count": null,
   "id": "d18a8868",
   "metadata": {},
   "outputs": [],
   "source": [
    "books['Rating'].value_counts().sort_index().plot(kind='bar')"
   ]
  },
  {
   "cell_type": "code",
   "execution_count": null,
   "id": "4335e178",
   "metadata": {},
   "outputs": [],
   "source": [
    "books.sort_values('UserId')"
   ]
  },
  {
   "cell_type": "code",
   "execution_count": null,
   "id": "dd15d290",
   "metadata": {},
   "outputs": [],
   "source": [
    "books_new = books.pivot_table(index='UserId', columns='Title', values='Rating')"
   ]
  },
  {
   "cell_type": "code",
   "execution_count": null,
   "id": "6190118d",
   "metadata": {},
   "outputs": [],
   "source": [
    "books_new"
   ]
  },
  {
   "cell_type": "code",
   "execution_count": null,
   "id": "b0542e29",
   "metadata": {},
   "outputs": [],
   "source": [
    "#Impute those NaNs with 0 values\n",
    "books_new.fillna(0, inplace=True)\n"
   ]
  },
  {
   "cell_type": "code",
   "execution_count": null,
   "id": "758f0606",
   "metadata": {},
   "outputs": [],
   "source": [
    "books_new.index = books['UserId'].unique()\n",
    "books_new\n"
   ]
  },
  {
   "cell_type": "raw",
   "id": "af128fe6",
   "metadata": {},
   "source": [
    "Calculating Cosine Similarity between Users"
   ]
  },
  {
   "cell_type": "code",
   "execution_count": null,
   "id": "07350c7c",
   "metadata": {},
   "outputs": [],
   "source": [
    "user1 = 1 - pairwise_distances( books_new.values, metric='cosine')\n",
    "user1"
   ]
  },
  {
   "cell_type": "code",
   "execution_count": null,
   "id": "fded947a",
   "metadata": {},
   "outputs": [],
   "source": [
    "np.fill_diagonal(user1, 0)"
   ]
  },
  {
   "cell_type": "code",
   "execution_count": null,
   "id": "14069fe2",
   "metadata": {},
   "outputs": [],
   "source": [
    "#Store the results in a dataframe\n",
    "user = pd.DataFrame(user1)\n",
    "user"
   ]
  },
  {
   "cell_type": "code",
   "execution_count": null,
   "id": "193beda6",
   "metadata": {},
   "outputs": [],
   "source": [
    "#Set the index and column names to user ids \n",
    "user.index = books.UserId.unique()\n",
    "user.columns = books.UserId.unique()"
   ]
  },
  {
   "cell_type": "code",
   "execution_count": null,
   "id": "182b527d",
   "metadata": {},
   "outputs": [],
   "source": [
    "user"
   ]
  },
  {
   "cell_type": "code",
   "execution_count": null,
   "id": "6c5ed5ca",
   "metadata": {},
   "outputs": [],
   "source": [
    "user.iloc[100:120, 100:120]"
   ]
  },
  {
   "cell_type": "code",
   "execution_count": null,
   "id": "cbe4d623",
   "metadata": {},
   "outputs": [],
   "source": [
    "user.idxmax(axis=1)"
   ]
  },
  {
   "cell_type": "code",
   "execution_count": null,
   "id": "c832b527",
   "metadata": {},
   "outputs": [],
   "source": [
    "user.idxmax(axis=1)[20:40]"
   ]
  },
  {
   "cell_type": "code",
   "execution_count": null,
   "id": "5a0d565d",
   "metadata": {},
   "outputs": [],
   "source": [
    "user.loc[8].idxmax()"
   ]
  },
  {
   "cell_type": "code",
   "execution_count": null,
   "id": "0756c02f",
   "metadata": {},
   "outputs": [],
   "source": [
    "books[(books['UserId']==276813) | (books['UserId']==8)]"
   ]
  },
  {
   "cell_type": "code",
   "execution_count": null,
   "id": "07946720",
   "metadata": {},
   "outputs": [],
   "source": [
    "id1=books[books['UserId']==276813]\n",
    "id1"
   ]
  },
  {
   "cell_type": "code",
   "execution_count": null,
   "id": "a2f83d23",
   "metadata": {},
   "outputs": [],
   "source": [
    "id2=books[books['UserId']==8]\n",
    "id2\n"
   ]
  },
  {
   "cell_type": "code",
   "execution_count": null,
   "id": "3ab9ed48",
   "metadata": {},
   "outputs": [],
   "source": [
    "id1.Title\n"
   ]
  },
  {
   "cell_type": "code",
   "execution_count": null,
   "id": "1c67bd52",
   "metadata": {},
   "outputs": [],
   "source": [
    "id2.Title\n"
   ]
  },
  {
   "cell_type": "code",
   "execution_count": null,
   "id": "f22aa1d6",
   "metadata": {},
   "outputs": [],
   "source": [
    "pd.merge(id1,id2,on='Title',how='outer')"
   ]
  },
  {
   "cell_type": "raw",
   "id": "212625a2",
   "metadata": {},
   "source": [
    "Considering the most similar customer"
   ]
  },
  {
   "cell_type": "code",
   "execution_count": null,
   "id": "e8ce67d1",
   "metadata": {},
   "outputs": [],
   "source": [
    "def recommend(custID):\n",
    "    simID = user.loc[custID].idxmax()\n",
    "    simID_books = books[books['UserId'] == simID].Title\n",
    "    custID_books = books[books['UserId'] == custID].Title\n",
    "    return set(simID_books) - set(custID_books)\n"
   ]
  },
  {
   "cell_type": "code",
   "execution_count": null,
   "id": "eb974e5c",
   "metadata": {},
   "outputs": [],
   "source": [
    "recommend(276813)"
   ]
  },
  {
   "cell_type": "code",
   "execution_count": null,
   "id": "bc8bf0eb",
   "metadata": {},
   "outputs": [],
   "source": [
    "recommend(507)"
   ]
  },
  {
   "cell_type": "code",
   "execution_count": null,
   "id": "a2fe16a5",
   "metadata": {},
   "outputs": [],
   "source": [
    "recommend(3462)"
   ]
  },
  {
   "cell_type": "code",
   "execution_count": null,
   "id": "e4cdbb3a",
   "metadata": {},
   "outputs": [],
   "source": []
  }
 ],
 "metadata": {
  "kernelspec": {
   "display_name": "Python 3 (ipykernel)",
   "language": "python",
   "name": "python3"
  },
  "language_info": {
   "codemirror_mode": {
    "name": "ipython",
    "version": 3
   },
   "file_extension": ".py",
   "mimetype": "text/x-python",
   "name": "python",
   "nbconvert_exporter": "python",
   "pygments_lexer": "ipython3",
   "version": "3.11.2"
  }
 },
 "nbformat": 4,
 "nbformat_minor": 5
}
